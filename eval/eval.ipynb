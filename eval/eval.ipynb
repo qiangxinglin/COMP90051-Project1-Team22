{
 "cells": [
  {
   "cell_type": "markdown",
   "metadata": {},
   "source": [
    "### Defining Score Calculation Func."
   ]
  },
  {
   "cell_type": "code",
   "execution_count": 1,
   "metadata": {},
   "outputs": [],
   "source": [
    "import torch\n",
    "\n",
    "def get_score(model, H, T):\n",
    "    from graphvite.application.network import LinkPredictor\n",
    "    model = LinkPredictor('LINE', model.solver.vertex_embeddings, model.solver.context_embeddings)\n",
    "    model = model.cuda()\n",
    "    tensorH = torch.as_tensor(H).cuda()\n",
    "    tensorT = torch.as_tensor(T).cuda()\n",
    "    return model(tensorH, tensorT)"
   ]
  },
  {
   "cell_type": "code",
   "execution_count": 2,
   "metadata": {},
   "outputs": [],
   "source": [
    "def get_prob(model, h, t):\n",
    "    \n",
    "    import torch\n",
    "    \n",
    "    context_emb = torch.as_tensor(model.solver.context_embeddings).cuda()\n",
    "    vertex_emb = torch.as_tensor(model.solver.vertex_embeddings).cuda()\n",
    "    context_embt = context_emb.t()\n",
    "    xxx = vertex_emb.mm(context_embt)\n",
    "    w = vertex_emb[h].view(1, len(vertex_emb[h]))\n",
    "    w_vec = w.mm(context_embt)\n",
    "    min_val = torch.min(w_vec)\n",
    "    max_val = torch.max(w_vec)\n",
    "    w_vec = (w_vec-min_val)/(max_val-min_val)\n",
    "    return w_vec[0][t].item()      "
   ]
  },
  {
   "cell_type": "markdown",
   "metadata": {},
   "source": [
    "### Loading Trained Models"
   ]
  },
  {
   "cell_type": "code",
   "execution_count": 14,
   "metadata": {},
   "outputs": [],
   "source": [
    "# Loading deepwalk and LINE embeddings.\n",
    "import pickle\n",
    "\n",
    "import os\n",
    "os.chdir(r'/home/qxl/')\n",
    "\n",
    "dim = 32\n",
    "length = 40\n",
    "method = 'line'\n",
    "directed = False\n",
    "emb = f'embedding/dim{dim}-len{length}/{\"directed_\" if directed else \"\"}{method}_full.pkl'\n",
    "model = pickle.load(open(emb, 'rb'))"
   ]
  },
  {
   "cell_type": "markdown",
   "metadata": {},
   "source": [
    "### Calculating Conditional Prob."
   ]
  },
  {
   "cell_type": "code",
   "execution_count": 15,
   "metadata": {},
   "outputs": [],
   "source": [
    "# Loading evaluating set.\n",
    "H, T, Y = [], [], []\n",
    "with open('data/test2.txt', 'r') as f:\n",
    "    mapping = model.graph.name2id\n",
    "    for line in f:\n",
    "        h, t, y = line.split()\n",
    "        H.append(mapping[h])\n",
    "        T.append(mapping[t])\n",
    "        Y.append(int(y))"
   ]
  },
  {
   "cell_type": "code",
   "execution_count": 16,
   "metadata": {},
   "outputs": [],
   "source": [
    "# Geting inner products of corresponding entries.\n",
    "score = get_score(model, H, T)\n",
    "score = score.tolist()"
   ]
  },
  {
   "cell_type": "code",
   "execution_count": null,
   "metadata": {},
   "outputs": [],
   "source": [
    "# Computing conditional probabilities.\n",
    "import math\n",
    "sigmoid_vec = []\n",
    "for i in range(len(score)):\n",
    "    sigmoid_vec.append(1/(1 + math.exp(-score[i])))"
   ]
  },
  {
   "cell_type": "markdown",
   "metadata": {},
   "source": [
    "### Setting Threshold and Obtaining Predictions"
   ]
  },
  {
   "cell_type": "code",
   "execution_count": 18,
   "metadata": {},
   "outputs": [],
   "source": [
    "# Setting threshold and making predictions.\n",
    "threshold = 0.1\n",
    "prediction = []\n",
    "for i in range(len(score)):\n",
    "    output = 0\n",
    "    if sigmoid_vec[i] > threshold:\n",
    "        output = 1\n",
    "    prediction.append(output)"
   ]
  },
  {
   "cell_type": "markdown",
   "metadata": {},
   "source": [
    "### Model Evaluation"
   ]
  },
  {
   "cell_type": "code",
   "execution_count": 19,
   "metadata": {},
   "outputs": [
    {
     "name": "stdout",
     "output_type": "stream",
     "text": [
      "              precision    recall  f1-score   support\n",
      "\n",
      "           0     0.9856    0.8525    0.9142   3677767\n",
      "           1     0.8834    0.9890    0.9332   4155066\n",
      "\n",
      "    accuracy                         0.9249   7832833\n",
      "   macro avg     0.9345    0.9207    0.9237   7832833\n",
      "weighted avg     0.9314    0.9249    0.9243   7832833\n",
      "auc = 0.9207284009402161\n"
     ]
    }
   ],
   "source": [
    "from sklearn.metrics import classification_report\n",
    "report = classification_report(Y, prediction, zero_division=0, digits=4)\n",
    "\n",
    "from sklearn.metrics import roc_curve, auc, roc_auc_score\n",
    "false_positive_rate, true_positive_rate, thresholds = roc_curve(Y, prediction)\n",
    "auc = auc(false_positive_rate, true_positive_rate)\n",
    "\n",
    "report += ('auc = ' + str(auc))\n",
    "print(report)"
   ]
  },
  {
   "cell_type": "markdown",
   "metadata": {},
   "source": [
    "### Saving Evaluation Results into txt"
   ]
  },
  {
   "cell_type": "code",
   "execution_count": 20,
   "metadata": {},
   "outputs": [],
   "source": [
    "results_path = 'eval/results/' + method + '_sigmoid_dim32_len40.txt'\n",
    "with open(results_path, 'w') as results_f:\n",
    "    results_f.write(report)\n",
    "results_f.close()"
   ]
  },
  {
   "cell_type": "markdown",
   "metadata": {},
   "source": [
    "### Generating Sigmoid Prob. for Kaggle Test Set"
   ]
  },
  {
   "cell_type": "code",
   "execution_count": 47,
   "metadata": {},
   "outputs": [],
   "source": [
    "H, T = [], []\n",
    "mapping = model.graph.name2id\n",
    "with open('data/test-public.txt', 'r') as f:\n",
    "    next(f)\n",
    "    for line in f:\n",
    "        _, h, t = line.split()\n",
    "        H.append(mapping[h])\n",
    "        T.append(mapping[t])"
   ]
  },
  {
   "cell_type": "code",
   "execution_count": 49,
   "metadata": {},
   "outputs": [],
   "source": [
    "score = get_score(model, H, T)\n",
    "score = score.tolist()\n",
    "\n",
    "import math\n",
    "sigmoid_vec = []\n",
    "for i in range(len(score)):\n",
    "    sigmoid_vec.append(1/(1 + math.exp(-score[i])))"
   ]
  },
  {
   "cell_type": "code",
   "execution_count": 50,
   "metadata": {},
   "outputs": [
    {
     "name": "stdout",
     "output_type": "stream",
     "text": [
      "Write output to output/sigmoid_deepwalk.csv\n"
     ]
    }
   ],
   "source": [
    "# Saving the output\n",
    "out = f'output/sigmoid_deepwalk.csv'\n",
    "with open(out, 'w') as o:\n",
    "    o.write('Id,Predicted\\n')\n",
    "    for i, s in enumerate(sigmoid_vec):\n",
    "        o.write(f'{i+1},{s}\\n')\n",
    "print('Write output to', out)"
   ]
  },
  {
   "cell_type": "code",
   "execution_count": null,
   "metadata": {},
   "outputs": [],
   "source": []
  }
 ],
 "metadata": {
  "kernelspec": {
   "display_name": "Python 3",
   "language": "python",
   "name": "python3"
  },
  "language_info": {
   "codemirror_mode": {
    "name": "ipython",
    "version": 3
   },
   "file_extension": ".py",
   "mimetype": "text/x-python",
   "name": "python",
   "nbconvert_exporter": "python",
   "pygments_lexer": "ipython3",
   "version": "3.7.8"
  }
 },
 "nbformat": 4,
 "nbformat_minor": 4
}
