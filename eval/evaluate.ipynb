{
 "cells": [
  {
   "cell_type": "code",
   "execution_count": 1,
   "metadata": {},
   "outputs": [
    {
     "name": "stdout",
     "output_type": "stream",
     "text": [
      "1.3.1\n"
     ]
    }
   ],
   "source": [
    "import torch\n",
    "from graphvite.application.network import LinkPredictor\n",
    "\n",
    "def get_score(model, H, T):\n",
    "    '''\n",
    "    Get the un-normalized score (similarity) for `H` and `T` \n",
    "    within the given `model`\n",
    "    '''\n",
    "    model = LinkPredictor('LINE', model.solver.vertex_embeddings, model.solver.context_embeddings)\n",
    "    model = model.cuda()\n",
    "    tensorH = torch.as_tensor(H).cuda()\n",
    "    tensorT = torch.as_tensor(T).cuda()\n",
    "    return model(tensorH, tensorT)"
   ]
  },
  {
   "cell_type": "markdown",
   "metadata": {},
   "source": [
    "-----------------------------------------------\n",
    "### Used for calculating normalized possiblity (Kaggle competition)"
   ]
  },
  {
   "cell_type": "code",
   "execution_count": 2,
   "metadata": {
    "collapsed": true
   },
   "outputs": [],
   "source": [
    "import pickle\n",
    "\n",
    "dim = 64\n",
    "length = 20\n",
    "method = 'deepwalk'\n",
    "directed = False\n",
    "emb = f'embedding/dim{dim}-len{length}/{\"directed_\" if directed else \"\"}{method}_full.pkl'\n",
    "\n",
    "model = pickle.load(open(emb, 'rb'))"
   ]
  },
  {
   "cell_type": "code",
   "execution_count": 3,
   "metadata": {
    "collapsed": true
   },
   "outputs": [],
   "source": [
    "H, T = [], []\n",
    "with open('data/test-public.txt', 'r') as f:\n",
    "    next(f)\n",
    "    mapping = model.graph.name2id\n",
    "    for line in f:\n",
    "        _, h, t = line.split()\n",
    "        H.append(mapping[h])\n",
    "        T.append(mapping[t])"
   ]
  },
  {
   "cell_type": "code",
   "execution_count": 4,
   "metadata": {
    "collapsed": true
   },
   "outputs": [],
   "source": [
    "score = get_score(model, H, T)\n",
    "# normalize the scores to probabilities\n",
    "smin = score.min(0, keepdim=True)[0]\n",
    "smax = score.max(0, keepdim=True)[0]\n",
    "score -= smin\n",
    "score /= (smax - smin)"
   ]
  },
  {
   "cell_type": "code",
   "execution_count": 5,
   "metadata": {},
   "outputs": [
    {
     "name": "stdout",
     "output_type": "stream",
     "text": [
      "Write output to output/dim64-len20_undirected_deepwalk_regularized.csv\n"
     ]
    }
   ],
   "source": [
    "# save the output\n",
    "out = f'output/dim{dim}-len{length}_{\"\" if directed else \"un\"}directed_{method}.csv'\n",
    "with open(out, 'w') as o:\n",
    "    o.write('Id,Predicted\\n')\n",
    "    for i, s in enumerate(score.tolist()):\n",
    "        o.write(f'{i+1},{s}\\n')\n",
    "print('Write output to', out)"
   ]
  },
  {
   "cell_type": "markdown",
   "metadata": {},
   "source": [
    "---\n",
    "### Used for calculating AUC (evaluate different models)\n"
   ]
  },
  {
   "cell_type": "code",
   "execution_count": 2,
   "metadata": {
    "collapsed": true
   },
   "outputs": [],
   "source": [
    "import pickle\n",
    "model = pickle.load(open('embedding/dim32-len40/deepwalk_train8.pkl', 'rb'))"
   ]
  },
  {
   "cell_type": "code",
   "execution_count": 9,
   "metadata": {
    "collapsed": true
   },
   "outputs": [],
   "source": [
    "H, T, Y = [], [], []\n",
    "with open('data/test2.txt', 'r') as f:\n",
    "    mapping = model.graph.name2id\n",
    "    for line in f:\n",
    "        h, t, y = line.split()\n",
    "        H.append(mapping[h])\n",
    "        T.append(mapping[t])\n",
    "        Y.append(int(y))\n",
    "\n",
    "# # filter testing data -- more robust approach\n",
    "# with open('data/test2.txt', 'r') as f:\n",
    "#     mapping = model.graph.name2id\n",
    "#     omitted = 0\n",
    "#     for line in f:\n",
    "#         h, t, y = line.split()\n",
    "#         if h in mapping and t in mapping:\n",
    "#             H.append(mapping[h])\n",
    "#             T.append(mapping[t])\n",
    "#             Y.append(int(y))\n",
    "#         else:\n",
    "#             omitted += 1\n",
    "            \n",
    "#     # MAGIC_NUMBER: This is # un-matched edges due to random generated testing data\n",
    "#     assert omitted == 1765609"
   ]
  },
  {
   "cell_type": "code",
   "execution_count": 12,
   "metadata": {},
   "outputs": [
    {
     "name": "stdout",
     "output_type": "stream",
     "text": [
      "AUC: 0.9387663497194524\n"
     ]
    }
   ],
   "source": [
    "L = torch.as_tensor(Y).cuda()\n",
    "score = get_score(model, H, T)\n",
    "order = torch.argsort(score, descending=True)\n",
    "L = L[order]\n",
    "hit = torch.cumsum(L, dim=0)\n",
    "all = torch.sum(L == 0) * torch.sum(L == 1)\n",
    "auc = torch.sum(hit[L == 0]).item() / all.item()\n",
    "print(f'AUC: {auc}')"
   ]
  },
  {
   "cell_type": "code",
   "execution_count": null,
   "metadata": {
    "collapsed": true
   },
   "outputs": [],
   "source": []
  }
 ],
 "metadata": {
  "kernelspec": {
   "display_name": "Python 3",
   "language": "python",
   "name": "python3"
  },
  "language_info": {
   "codemirror_mode": {
    "name": "ipython",
    "version": 3
   },
   "file_extension": ".py",
   "mimetype": "text/x-python",
   "name": "python",
   "nbconvert_exporter": "python",
   "pygments_lexer": "ipython3",
   "version": "3.6.1"
  }
 },
 "nbformat": 4,
 "nbformat_minor": 4
}
