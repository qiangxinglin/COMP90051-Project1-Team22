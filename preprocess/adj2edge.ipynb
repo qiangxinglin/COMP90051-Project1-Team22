{
 "cells": [
  {
   "cell_type": "code",
   "execution_count": 16,
   "metadata": {},
   "outputs": [],
   "source": [
    "with open('data/train.txt', 'r') as f, open('data/full.txt', 'w') as o:\n",
    "    for line in f:\n",
    "        l = line.split()\n",
    "        # transform {A, B, C} -> [{A, B}, {A, C}]\n",
    "        if len(l) > 1:\n",
    "            for dst in l[1:]:\n",
    "                o.write(f'{l[0]} {dst}\\n')"
   ]
  },
  {
   "cell_type": "code",
   "execution_count": 18,
   "metadata": {},
   "outputs": [
    {
     "name": "stdout",
     "output_type": "stream",
     "text": [
      "24004361 data/full.txt\n"
     ]
    }
   ],
   "source": [
    "!wc -l data/full.txt"
   ]
  },
  {
   "cell_type": "code",
   "execution_count": null,
   "metadata": {},
   "outputs": [],
   "source": []
  }
 ],
 "metadata": {
  "kernelspec": {
   "display_name": "Python 3",
   "language": "python",
   "name": "python3"
  },
  "language_info": {
   "codemirror_mode": {
    "name": "ipython",
    "version": 3
   },
   "file_extension": ".py",
   "mimetype": "text/x-python",
   "name": "python",
   "nbconvert_exporter": "python",
   "pygments_lexer": "ipython3",
   "version": "3.7.8"
  }
 },
 "nbformat": 4,
 "nbformat_minor": 4
}
