{
 "cells": [
  {
   "cell_type": "markdown",
   "metadata": {},
   "source": [
    "## Training Logistic Regression Model Using Trained Embeddings"
   ]
  },
  {
   "cell_type": "code",
   "execution_count": 1,
   "metadata": {},
   "outputs": [],
   "source": [
    "# Loading model\n",
    "def get_model():\n",
    "    import pickle\n",
    "    import os\n",
    "    os.chdir(r'/home/qxl/')\n",
    "    \n",
    "    # Loading trained embeddings\n",
    "    dim = 32\n",
    "    length = 40\n",
    "    method = 'deepwalk'\n",
    "    directed = False\n",
    "    emb = f'embedding/dim{dim}-len{length}/{\"directed_\" if directed else \"\"}{method}_full.pkl'\n",
    "    model = pickle.load(open(emb, 'rb'))\n",
    "    return model"
   ]
  },
  {
   "cell_type": "code",
   "execution_count": 2,
   "metadata": {},
   "outputs": [],
   "source": [
    "# Generating input vectors\n",
    "def get_datavec(model):\n",
    "    \n",
    "    mapping = model.graph.name2id\n",
    "    context_emb = model.solver.context_embeddings\n",
    "    vertex_emb = model.solver.vertex_embeddings\n",
    "    \n",
    "    # Reading file and generating input vectors\n",
    "    file_name = r'data/test2.txt'\n",
    "    X, Y = [], []\n",
    "    with open(file_name, 'r') as f:\n",
    "        for line in f:\n",
    "            h, t, y = line.split()\n",
    "            X_vec = list(vertex_emb[mapping[h]])\n",
    "            X_vec.extend(context_emb[mapping[t]])\n",
    "            X.append(X_vec)\n",
    "            Y.append(int(y))\n",
    "    return X, Y"
   ]
  },
  {
   "cell_type": "code",
   "execution_count": 3,
   "metadata": {},
   "outputs": [],
   "source": [
    "# Generating test vectors\n",
    "def get_test_datavec(model):\n",
    "\n",
    "    mapping = model.graph.name2id\n",
    "    context_emb = model.solver.context_embeddings\n",
    "    vertex_emb = model.solver.vertex_embeddings\n",
    "    \n",
    "    # Reading file and generating input vectors\n",
    "    file_name = r'data/test-public.txt'\n",
    "    X  = []\n",
    "    with open(file_name, 'r') as f:\n",
    "        next(f)\n",
    "        for line in f:\n",
    "            _, h, t = line.split()\n",
    "            X_vec = list(vertex_emb[mapping[h]])\n",
    "            X_vec.extend(context_emb[mapping[t]])\n",
    "            X.append(X_vec)\n",
    "    return X"
   ]
  },
  {
   "cell_type": "code",
   "execution_count": 4,
   "metadata": {},
   "outputs": [],
   "source": [
    "from sklearn.model_selection import train_test_split\n",
    "import pickle\n",
    "import pandas as pd\n",
    "from sklearn.metrics import classification_report\n",
    "\n",
    "# Loading full data\n",
    "model = get_model()\n",
    "X, Y =  get_datavec(model)\n",
    "# Spliting data into training set and testing set\n",
    "Xtrain, Xtest, Ytrain, Ytest = train_test_split(X, Y, test_size = 0.2)"
   ]
  },
  {
   "cell_type": "code",
   "execution_count": 5,
   "metadata": {},
   "outputs": [],
   "source": [
    "# Changing data to ndarray format\n",
    "import numpy as np\n",
    "Xtrain = np.array(Xtrain)\n",
    "Xtest = np.array(Xtest)"
   ]
  },
  {
   "cell_type": "markdown",
   "metadata": {},
   "source": [
    "### Logistic Regression Model"
   ]
  },
  {
   "cell_type": "code",
   "execution_count": 6,
   "metadata": {},
   "outputs": [
    {
     "data": {
      "text/plain": [
       "LogisticRegression(solver='sag')"
      ]
     },
     "execution_count": 6,
     "metadata": {},
     "output_type": "execute_result"
    }
   ],
   "source": [
    "# Setting LR model and training the model\n",
    "from sklearn.linear_model import LogisticRegression\n",
    "log_reg = LogisticRegression(solver = 'sag')\n",
    "log_reg.fit(Xtrain, Ytrain)"
   ]
  },
  {
   "cell_type": "code",
   "execution_count": 7,
   "metadata": {},
   "outputs": [],
   "source": [
    "# Making prediction on the testing set\n",
    "prediction = log_reg.predict(Xtest)"
   ]
  },
  {
   "cell_type": "code",
   "execution_count": 12,
   "metadata": {},
   "outputs": [
    {
     "name": "stdout",
     "output_type": "stream",
     "text": [
      "              precision    recall  f1-score   support\n",
      "\n",
      "           0     0.9986    0.9965    0.9976    734726\n",
      "           1     0.9969    0.9988    0.9979    831841\n",
      "\n",
      "    accuracy                         0.9977   1566567\n",
      "   macro avg     0.9978    0.9977    0.9977   1566567\n",
      "weighted avg     0.9977    0.9977    0.9977   1566567\n",
      "auc = 0.9976653860278812\n"
     ]
    }
   ],
   "source": [
    "# Evaluating the model\n",
    "report = classification_report(Ytest, prediction, zero_division = 0, digits = 4)\n",
    "\n",
    "from sklearn.metrics import roc_curve, auc, roc_auc_score\n",
    "false_positive_rate, true_positive_rate, thresholds = roc_curve(Ytest, prediction)\n",
    "auc = auc(false_positive_rate, true_positive_rate)\n",
    "\n",
    "report += ('auc = ' + str(auc))\n",
    "print(report)"
   ]
  },
  {
   "cell_type": "code",
   "execution_count": 13,
   "metadata": {},
   "outputs": [],
   "source": [
    "# Saving report\n",
    "results_path = 'eval/results/Logistic_Reg.txt'\n",
    "with open(results_path, 'w') as results_f:\n",
    "    results_f.write(report)\n",
    "results_f.close()"
   ]
  },
  {
   "cell_type": "code",
   "execution_count": 14,
   "metadata": {},
   "outputs": [],
   "source": [
    "# Saving LR classifier\n",
    "pickle.dump(log_reg, open('eval/classifiers/Logitic_Reg.pkl', 'wb'))"
   ]
  },
  {
   "cell_type": "markdown",
   "metadata": {},
   "source": [
    "### Generating Prediction for Kaggle Competition"
   ]
  },
  {
   "cell_type": "code",
   "execution_count": 19,
   "metadata": {},
   "outputs": [],
   "source": [
    "import math\n",
    "# Making prediction for Kaggle test set\n",
    "Kaggle_test = np.array(get_test_datavec(model))\n",
    "# Making prediction on the testing set\n",
    "Kaggle_prediction = log_reg.decision_function(Kaggle_test)\n",
    "est_prob = []\n",
    "for i in range(len(Kaggle_prediction)):\n",
    "    est_prob.append(1/(1 + math.exp(-Kaggle_prediction[i])))"
   ]
  },
  {
   "cell_type": "code",
   "execution_count": 21,
   "metadata": {},
   "outputs": [
    {
     "name": "stdout",
     "output_type": "stream",
     "text": [
      "Write output to output/logistic_reg_score.csv\n"
     ]
    }
   ],
   "source": [
    "# Saving the output\n",
    "out = f'output/logistic_reg_score.csv'\n",
    "with open(out, 'w') as o:\n",
    "    o.write('Id,Predicted\\n')\n",
    "    for i, s in enumerate(est_prob):\n",
    "        o.write(f'{i+1},{s}\\n')\n",
    "print('Write output to', out)"
   ]
  }
 ],
 "metadata": {
  "kernelspec": {
   "display_name": "Python 3",
   "language": "python",
   "name": "python3"
  },
  "language_info": {
   "codemirror_mode": {
    "name": "ipython",
    "version": 3
   },
   "file_extension": ".py",
   "mimetype": "text/x-python",
   "name": "python",
   "nbconvert_exporter": "python",
   "pygments_lexer": "ipython3",
   "version": "3.7.8"
  }
 },
 "nbformat": 4,
 "nbformat_minor": 4
}
