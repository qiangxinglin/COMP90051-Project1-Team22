{
 "cells": [
  {
   "cell_type": "code",
   "execution_count": 1,
   "metadata": {},
   "outputs": [],
   "source": [
    "import numpy as np\n",
    "\n",
    "def link_prediction_split(graph_file, files, portions):\n",
    "    \"\"\"\n",
    "    Divide a normal graph into a train split and several test splits for link prediction use.\n",
    "    Each test split contains half true and half false edges.\n",
    "\n",
    "    Parameters:\n",
    "        graph_file (str): graph file\n",
    "        files (list of str): file names,\n",
    "            the first file is treated as train file\n",
    "        portions (list of float): split portions\n",
    "    \"\"\"\n",
    "    assert len(files) == len(portions)\n",
    "    print(f\"splitting graph {graph_file} into {', '.join([f for f in files])}\")\n",
    "    np.random.seed(1024)\n",
    "\n",
    "    nodes = set()\n",
    "    edges = set()\n",
    "    portions = np.cumsum(portions, dtype=np.float32) / np.sum(portions)\n",
    "    files = [open(file, \"w\") for file in files]\n",
    "    num_edges = [0] * len(files)\n",
    "    with open(graph_file, \"r\") as fin:\n",
    "        for line in fin:\n",
    "            u, v = line.split()[:2]\n",
    "            nodes.update([u, v])\n",
    "            edges.add((u, v))\n",
    "            i = np.searchsorted(portions, np.random.rand())\n",
    "            if i == 0:\n",
    "                files[i].write(line)\n",
    "            else:\n",
    "                files[i].write(f\"{u}\\t{v}\\t1\\n\")\n",
    "            num_edges[i] += 1\n",
    "\n",
    "    nodes = list(nodes)\n",
    "    for file, num_edge in zip(files[1:], num_edges[1:]):\n",
    "        for _ in range(num_edge):\n",
    "            valid = False\n",
    "            while not valid:\n",
    "                u = nodes[int(np.random.rand() * len(nodes))]\n",
    "                v = nodes[int(np.random.rand() * len(nodes))]\n",
    "                valid = u != v and (u, v) not in edges and (v, u) not in edges\n",
    "            file.write(f\"{u}\\t{v}\\t0\\n\")\n",
    "    for file in files:\n",
    "        file.close()\n"
   ]
  },
  {
   "cell_type": "code",
   "execution_count": 2,
   "metadata": {},
   "outputs": [
    {
     "name": "stdout",
     "output_type": "stream",
     "text": [
      "splitting graph data/mini.txt into mi8.txt, mi2.txt\n"
     ]
    }
   ],
   "source": [
    "link_prediction_split('data/full.txt', ['train8.txt', 'test2.txt'], [8, 2])"
   ]
  },
  {
   "cell_type": "code",
   "execution_count": null,
   "metadata": {},
   "outputs": [],
   "source": []
  }
 ],
 "metadata": {
  "kernelspec": {
   "display_name": "Python 3",
   "language": "python",
   "name": "python3"
  },
  "language_info": {
   "codemirror_mode": {
    "name": "ipython",
    "version": 3
   },
   "file_extension": ".py",
   "mimetype": "text/x-python",
   "name": "python",
   "nbconvert_exporter": "python",
   "pygments_lexer": "ipython3",
   "version": "3.7.8"
  }
 },
 "nbformat": 4,
 "nbformat_minor": 4
}
