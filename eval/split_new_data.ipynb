{
 "cells": [
  {
   "cell_type": "markdown",
   "metadata": {},
   "source": [
    "## Get Alternative 20% Training Set"
   ]
  },
  {
   "cell_type": "code",
   "execution_count": 1,
   "metadata": {},
   "outputs": [],
   "source": [
    "import numpy as np\n",
    "import os\n",
    "    \n",
    "def gen_traindata(graph_file, file, portions):\n",
    "    \n",
    "    os.chdir(r'/home/qxl/')\n",
    "    print(f\"extracting training data {file} from graph {graph_file} with portion {portions}.\")\n",
    "    np.random.seed(1024)\n",
    "\n",
    "    nodes = set()\n",
    "    edges = set()\n",
    "    data_file = open(file, \"w\")\n",
    "    \n",
    "    num_edges = 0\n",
    "    with open(graph_file, \"r\") as fin:\n",
    "        for line in fin:\n",
    "            u, v = line.split()[:2]\n",
    "            nodes.update([u, v])\n",
    "            edges.add((u, v))\n",
    "            i = np.random.rand()\n",
    "            if i <= portions:\n",
    "                data_file.write(f\"{u}\\t{v}\\t1\\n\") \n",
    "                num_edges += 1\n",
    "    print(f\"Total num of edges: {num_edges}.\")\n",
    "    nodes = list(nodes)\n",
    "    for x in range(num_edges):\n",
    "        valid = False\n",
    "        while not valid:\n",
    "            u = nodes[int(np.random.rand() * len(nodes))]\n",
    "            v = nodes[int(np.random.rand() * len(nodes))]\n",
    "            valid = u != v and (u, v) not in edges and (v, u) not in edges\n",
    "        data_file.write(f\"{u}\\t{v}\\t0\\n\")\n",
    "    \n",
    "    data_file.close()"
   ]
  },
  {
   "cell_type": "code",
   "execution_count": null,
   "metadata": {},
   "outputs": [],
   "source": [
    "gen_traindata('data/full.txt', 'eval/train_data.txt', 0.2)"
   ]
  }
 ],
 "metadata": {
  "kernelspec": {
   "display_name": "Python 3",
   "language": "python",
   "name": "python3"
  },
  "language_info": {
   "codemirror_mode": {
    "name": "ipython",
    "version": 3
   },
   "file_extension": ".py",
   "mimetype": "text/x-python",
   "name": "python",
   "nbconvert_exporter": "python",
   "pygments_lexer": "ipython3",
   "version": "3.7.8"
  }
 },
 "nbformat": 4,
 "nbformat_minor": 4
}
